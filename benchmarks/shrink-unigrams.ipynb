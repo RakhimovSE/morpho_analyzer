{
 "cells": [
  {
   "cell_type": "markdown",
   "metadata": {},
   "source": [
    "This notebook prepares a reduced file with unigrams (to make benchmarks runs faster)."
   ]
  },
  {
   "cell_type": "code",
   "execution_count": 109,
   "metadata": {},
   "outputs": [],
   "source": [
    "from __future__ import unicode_literals\n",
    "import random\n",
    "import math\n",
    "random.seed(0)\n",
    "\n",
    "TOTAL_UNIGRAMS = 2000\n",
    "HEAD_SIZE = 400\n",
    "COUNTS_SCALE = 0.05\n",
    "OUT_PATH = '../dev_data/unigrams.txt'\n",
    "\n",
    "# unigrams file downloaded from http://opencorpora.org/?page=downloads\n",
    "SOURCE_UNIGRAMS_PATH = '../dev_data/unigrams.cyr.lc' "
   ]
  },
  {
   "cell_type": "code",
   "execution_count": 110,
   "metadata": {},
   "outputs": [],
   "source": [
    "def _scaled(txt):\n",
    "    return math.ceil(int(txt)*COUNTS_SCALE)\n",
    "\n",
    "with open(SOURCE_UNIGRAMS_PATH, 'rb') as f:\n",
    "    lines = [line.split() for line in f.read().decode('utf8').split('\\n') if line]\n",
    "    unigrams = [(word, _scaled(count), _scaled(ipm)) for (word, count, ipm) in lines]"
   ]
  },
  {
   "cell_type": "code",
   "execution_count": 111,
   "metadata": {},
   "outputs": [],
   "source": [
    "head, tail = unigrams[:HEAD_SIZE], unigrams[HEAD_SIZE:]\n",
    "take_ids = sorted(random.sample(range(len(tail)), TOTAL_UNIGRAMS-HEAD_SIZE))\n",
    "result = head + [tail[i] for i in take_ids]\n",
    "assert len(result) == TOTAL_UNIGRAMS"
   ]
  },
  {
   "cell_type": "code",
   "execution_count": 112,
   "metadata": {},
   "outputs": [],
   "source": [
    "with open(OUT_PATH, 'wb') as f:\n",
    "    f.write(\"\\n\".join([\"%s\\t%s\\t%s\" % r for r in result]).encode('utf8'))"
   ]
  }
 ],
 "metadata": {
  "name": "shrink-unigrams"
 },
 "nbformat": 4,
 "nbformat_minor": 0
}
